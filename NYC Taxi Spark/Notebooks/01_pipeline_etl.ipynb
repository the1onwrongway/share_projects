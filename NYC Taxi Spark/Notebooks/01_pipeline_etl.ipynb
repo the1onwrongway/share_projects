{
 "cells": [
  {
   "cell_type": "markdown",
   "metadata": {
    "application/vnd.databricks.v1+cell": {
     "cellMetadata": {
      "byteLimit": 2048000,
      "rowLimit": 10000
     },
     "inputWidgets": {},
     "nuid": "98bb9661-3e9e-40b7-a4bd-07e3aa5d4a6d",
     "showTitle": false,
     "tableResultSettingsMap": {},
     "title": ""
    }
   },
   "source": [
    "1. Import Modules"
   ]
  },
  {
   "cell_type": "code",
   "execution_count": 0,
   "metadata": {
    "application/vnd.databricks.v1+cell": {
     "cellMetadata": {
      "byteLimit": 2048000,
      "rowLimit": 10000
     },
     "inputWidgets": {},
     "nuid": "bdba2cbd-8b8b-43e9-b0c0-f86563efa774",
     "showTitle": false,
     "tableResultSettingsMap": {},
     "title": ""
    }
   },
   "outputs": [],
   "source": [
    "from pyspark.sql.functions import (\n",
    "    col, hour, dayofweek, unix_timestamp, round, avg\n",
    "    )"
   ]
  },
  {
   "cell_type": "markdown",
   "metadata": {
    "application/vnd.databricks.v1+cell": {
     "cellMetadata": {},
     "inputWidgets": {},
     "nuid": "02bd697d-f4c0-4cf7-8a03-0ce80a6427a7",
     "showTitle": false,
     "tableResultSettingsMap": {},
     "title": ""
    }
   },
   "source": [
    "2. Create Database"
   ]
  },
  {
   "cell_type": "code",
   "execution_count": 0,
   "metadata": {
    "application/vnd.databricks.v1+cell": {
     "cellMetadata": {
      "byteLimit": 2048000,
      "implicitDf": true,
      "rowLimit": 10000
     },
     "inputWidgets": {},
     "nuid": "442390cc-1766-4a35-b572-101044cb9780",
     "showTitle": false,
     "tableResultSettingsMap": {},
     "title": ""
    }
   },
   "outputs": [],
   "source": [
    "%sql\n",
    "CREATE DATABASE IF NOT EXISTS nyc_taxi"
   ]
  },
  {
   "cell_type": "markdown",
   "metadata": {
    "application/vnd.databricks.v1+cell": {
     "cellMetadata": {},
     "inputWidgets": {},
     "nuid": "088ee913-a1b5-4cac-955b-86f704fdcfdd",
     "showTitle": false,
     "tableResultSettingsMap": {},
     "title": ""
    }
   },
   "source": [
    "3. Load Data"
   ]
  },
  {
   "cell_type": "code",
   "execution_count": 0,
   "metadata": {
    "application/vnd.databricks.v1+cell": {
     "cellMetadata": {
      "byteLimit": 2048000,
      "rowLimit": 10000
     },
     "inputWidgets": {},
     "nuid": "bc467ed4-2553-45ae-a03c-649c36991606",
     "showTitle": false,
     "tableResultSettingsMap": {},
     "title": ""
    }
   },
   "outputs": [
    {
     "output_type": "display_data",
     "data": {
      "text/html": [
       "<style scoped>\n",
       "  .table-result-container {\n",
       "    max-height: 300px;\n",
       "    overflow: auto;\n",
       "  }\n",
       "  table, th, td {\n",
       "    border: 1px solid black;\n",
       "    border-collapse: collapse;\n",
       "  }\n",
       "  th, td {\n",
       "    padding: 5px;\n",
       "  }\n",
       "  th {\n",
       "    text-align: left;\n",
       "  }\n",
       "</style><div class='table-result-container'><table class='table-result'><thead style='background-color: white'><tr><th>VendorID</th><th>tpep_pickup_datetime</th><th>tpep_dropoff_datetime</th><th>passenger_count</th><th>trip_distance</th><th>RatecodeID</th><th>store_and_fwd_flag</th><th>PULocationID</th><th>DOLocationID</th><th>payment_type</th><th>fare_amount</th><th>extra</th><th>mta_tax</th><th>tip_amount</th><th>tolls_amount</th><th>improvement_surcharge</th><th>total_amount</th><th>congestion_surcharge</th><th>Airport_fee</th><th>cbd_congestion_fee</th></tr></thead><tbody><tr><td>1</td><td>2025-05-01T00:07:06.000</td><td>2025-05-01T00:24:15.000</td><td>1</td><td>3.7</td><td>1</td><td>N</td><td>140</td><td>202</td><td>1</td><td>18.4</td><td>4.25</td><td>0.5</td><td>4.85</td><td>0.0</td><td>1.0</td><td>29.0</td><td>2.5</td><td>0.0</td><td>0.75</td></tr><tr><td>2</td><td>2025-05-01T00:07:44.000</td><td>2025-05-01T00:14:27.000</td><td>1</td><td>1.03</td><td>1</td><td>N</td><td>234</td><td>161</td><td>1</td><td>8.6</td><td>1.0</td><td>0.5</td><td>4.3</td><td>0.0</td><td>1.0</td><td>18.65</td><td>2.5</td><td>0.0</td><td>0.75</td></tr><tr><td>2</td><td>2025-05-01T00:15:56.000</td><td>2025-05-01T00:23:53.000</td><td>1</td><td>1.57</td><td>1</td><td>N</td><td>161</td><td>234</td><td>2</td><td>10.0</td><td>1.0</td><td>0.5</td><td>0.0</td><td>0.0</td><td>1.0</td><td>15.75</td><td>2.5</td><td>0.0</td><td>0.75</td></tr><tr><td>2</td><td>2025-05-01T00:00:09.000</td><td>2025-05-01T00:25:29.000</td><td>1</td><td>9.48</td><td>1</td><td>N</td><td>138</td><td>90</td><td>1</td><td>40.8</td><td>6.0</td><td>0.5</td><td>11.7</td><td>6.94</td><td>1.0</td><td>71.94</td><td>2.5</td><td>1.75</td><td>0.75</td></tr><tr><td>2</td><td>2025-05-01T00:45:07.000</td><td>2025-05-01T00:52:45.000</td><td>1</td><td>1.8</td><td>1</td><td>N</td><td>90</td><td>231</td><td>1</td><td>10.0</td><td>1.0</td><td>0.5</td><td>1.5</td><td>0.0</td><td>1.0</td><td>17.25</td><td>2.5</td><td>0.0</td><td>0.75</td></tr></tbody></table></div>"
      ]
     },
     "metadata": {
      "application/vnd.databricks.v1+output": {
       "addedWidgets": {},
       "aggData": [],
       "aggError": "",
       "aggOverflow": false,
       "aggSchema": [],
       "aggSeriesLimitReached": false,
       "aggType": "",
       "arguments": {},
       "columnCustomDisplayInfos": {},
       "data": [
        [
         1,
         "2025-05-01T00:07:06.000",
         "2025-05-01T00:24:15.000",
         1,
         3.7,
         1,
         "N",
         140,
         202,
         1,
         18.4,
         4.25,
         0.5,
         4.85,
         0.0,
         1.0,
         29.0,
         2.5,
         0.0,
         0.75
        ],
        [
         2,
         "2025-05-01T00:07:44.000",
         "2025-05-01T00:14:27.000",
         1,
         1.03,
         1,
         "N",
         234,
         161,
         1,
         8.6,
         1.0,
         0.5,
         4.3,
         0.0,
         1.0,
         18.65,
         2.5,
         0.0,
         0.75
        ],
        [
         2,
         "2025-05-01T00:15:56.000",
         "2025-05-01T00:23:53.000",
         1,
         1.57,
         1,
         "N",
         161,
         234,
         2,
         10.0,
         1.0,
         0.5,
         0.0,
         0.0,
         1.0,
         15.75,
         2.5,
         0.0,
         0.75
        ],
        [
         2,
         "2025-05-01T00:00:09.000",
         "2025-05-01T00:25:29.000",
         1,
         9.48,
         1,
         "N",
         138,
         90,
         1,
         40.8,
         6.0,
         0.5,
         11.7,
         6.94,
         1.0,
         71.94,
         2.5,
         1.75,
         0.75
        ],
        [
         2,
         "2025-05-01T00:45:07.000",
         "2025-05-01T00:52:45.000",
         1,
         1.8,
         1,
         "N",
         90,
         231,
         1,
         10.0,
         1.0,
         0.5,
         1.5,
         0.0,
         1.0,
         17.25,
         2.5,
         0.0,
         0.75
        ]
       ],
       "datasetInfos": [],
       "dbfsResultPath": null,
       "isJsonSchema": true,
       "metadata": {},
       "overflow": false,
       "plotOptions": {
        "customPlotOptions": {},
        "displayType": "table",
        "pivotAggregation": null,
        "pivotColumns": null,
        "xColumns": null,
        "yColumns": null
       },
       "removedWidgets": [],
       "schema": [
        {
         "metadata": "{}",
         "name": "VendorID",
         "type": "\"integer\""
        },
        {
         "metadata": "{}",
         "name": "tpep_pickup_datetime",
         "type": "\"timestamp_ntz\""
        },
        {
         "metadata": "{}",
         "name": "tpep_dropoff_datetime",
         "type": "\"timestamp_ntz\""
        },
        {
         "metadata": "{}",
         "name": "passenger_count",
         "type": "\"long\""
        },
        {
         "metadata": "{}",
         "name": "trip_distance",
         "type": "\"double\""
        },
        {
         "metadata": "{}",
         "name": "RatecodeID",
         "type": "\"long\""
        },
        {
         "metadata": "{}",
         "name": "store_and_fwd_flag",
         "type": "\"string\""
        },
        {
         "metadata": "{}",
         "name": "PULocationID",
         "type": "\"integer\""
        },
        {
         "metadata": "{}",
         "name": "DOLocationID",
         "type": "\"integer\""
        },
        {
         "metadata": "{}",
         "name": "payment_type",
         "type": "\"long\""
        },
        {
         "metadata": "{}",
         "name": "fare_amount",
         "type": "\"double\""
        },
        {
         "metadata": "{}",
         "name": "extra",
         "type": "\"double\""
        },
        {
         "metadata": "{}",
         "name": "mta_tax",
         "type": "\"double\""
        },
        {
         "metadata": "{}",
         "name": "tip_amount",
         "type": "\"double\""
        },
        {
         "metadata": "{}",
         "name": "tolls_amount",
         "type": "\"double\""
        },
        {
         "metadata": "{}",
         "name": "improvement_surcharge",
         "type": "\"double\""
        },
        {
         "metadata": "{}",
         "name": "total_amount",
         "type": "\"double\""
        },
        {
         "metadata": "{}",
         "name": "congestion_surcharge",
         "type": "\"double\""
        },
        {
         "metadata": "{}",
         "name": "Airport_fee",
         "type": "\"double\""
        },
        {
         "metadata": "{}",
         "name": "cbd_congestion_fee",
         "type": "\"double\""
        }
       ],
       "type": "table"
      }
     },
     "output_type": "display_data"
    }
   ],
   "source": [
    "df = spark.read.format(\"parquet\")\\\n",
    "                .option(\"inferschema\",'True')\\\n",
    "                .option(\"mode\",\"failfast\")\\\n",
    "                .load(\"/Volumes/workspace/nyc_taxi_data/data/yellow_tripdata_2025-05.parquet\")\n",
    "display(df.limit(5))"
   ]
  },
  {
   "cell_type": "code",
   "execution_count": 0,
   "metadata": {
    "application/vnd.databricks.v1+cell": {
     "cellMetadata": {
      "byteLimit": 2048000,
      "rowLimit": 10000
     },
     "inputWidgets": {},
     "nuid": "b8b1d86a-f89e-41c4-8997-8c35574fccc7",
     "showTitle": false,
     "tableResultSettingsMap": {},
     "title": ""
    }
   },
   "outputs": [],
   "source": [
    "# Load NYC Taxi zone lookup CSV\n",
    "df_zones = spark.read.option(\"header\", \"true\").csv(\n",
    "    \"/databricks-datasets/nyctaxi/taxizone/taxi_zone_lookup.csv\"\n",
    ")"
   ]
  },
  {
   "cell_type": "markdown",
   "metadata": {
    "application/vnd.databricks.v1+cell": {
     "cellMetadata": {},
     "inputWidgets": {},
     "nuid": "e1399bb3-2254-469e-91bf-d4dece93509e",
     "showTitle": false,
     "tableResultSettingsMap": {},
     "title": ""
    }
   },
   "source": [
    "4. Clean Data"
   ]
  },
  {
   "cell_type": "code",
   "execution_count": 0,
   "metadata": {
    "application/vnd.databricks.v1+cell": {
     "cellMetadata": {
      "byteLimit": 2048000,
      "rowLimit": 10000
     },
     "inputWidgets": {},
     "nuid": "49ee5488-095d-4cc7-b299-695b9c65a030",
     "showTitle": false,
     "tableResultSettingsMap": {},
     "title": ""
    }
   },
   "outputs": [],
   "source": [
    "def clean_data(df):\n",
    "    return df.filter(\n",
    "    (col(\"passenger_count\") > 0) &\n",
    "    (col(\"trip_distance\") > 0) &\n",
    "    (col(\"fare_amount\") > 0) &\n",
    "    (col(\"tpep_pickup_datetime\").isNotNull()) &\n",
    "    (col(\"tpep_dropoff_datetime\").isNotNull())\n",
    ")"
   ]
  },
  {
   "cell_type": "code",
   "execution_count": 0,
   "metadata": {
    "application/vnd.databricks.v1+cell": {
     "cellMetadata": {
      "byteLimit": 2048000,
      "rowLimit": 10000
     },
     "inputWidgets": {},
     "nuid": "d5b3b005-e81f-414e-aad3-f0728fcb2706",
     "showTitle": false,
     "tableResultSettingsMap": {},
     "title": ""
    }
   },
   "outputs": [
    {
     "output_type": "stream",
     "name": "stdout",
     "output_type": "stream",
     "text": [
      "Before filtering: 4591845\nAfter filtering: 3254702\nRemoved Entries: 1337143\n"
     ]
    }
   ],
   "source": [
    "df_clean = clean_data(df)\n",
    "print(\"Before filtering:\", df.count())\n",
    "print(\"After filtering:\", df_clean.count())\n",
    "print('Removed Entries:',df.count()- df_clean.count())"
   ]
  },
  {
   "cell_type": "markdown",
   "metadata": {
    "application/vnd.databricks.v1+cell": {
     "cellMetadata": {},
     "inputWidgets": {},
     "nuid": "eced2370-09ce-47dc-bb3b-70a6d3363388",
     "showTitle": false,
     "tableResultSettingsMap": {},
     "title": ""
    }
   },
   "source": [
    "5. Feature Engineering"
   ]
  },
  {
   "cell_type": "code",
   "execution_count": 0,
   "metadata": {
    "application/vnd.databricks.v1+cell": {
     "cellMetadata": {
      "byteLimit": 2048000,
      "rowLimit": 10000
     },
     "inputWidgets": {},
     "nuid": "0d6343aa-4629-45e9-96c9-31c81f3f79ad",
     "showTitle": false,
     "tableResultSettingsMap": {},
     "title": ""
    }
   },
   "outputs": [
    {
     "output_type": "display_data",
     "data": {
      "text/html": [
       "<style scoped>\n",
       "  .table-result-container {\n",
       "    max-height: 300px;\n",
       "    overflow: auto;\n",
       "  }\n",
       "  table, th, td {\n",
       "    border: 1px solid black;\n",
       "    border-collapse: collapse;\n",
       "  }\n",
       "  th, td {\n",
       "    padding: 5px;\n",
       "  }\n",
       "  th {\n",
       "    text-align: left;\n",
       "  }\n",
       "</style><div class='table-result-container'><table class='table-result'><thead style='background-color: white'><tr><th>VendorID</th><th>tpep_pickup_datetime</th><th>tpep_dropoff_datetime</th><th>passenger_count</th><th>trip_distance</th><th>RatecodeID</th><th>store_and_fwd_flag</th><th>PULocationID</th><th>DOLocationID</th><th>payment_type</th><th>fare_amount</th><th>extra</th><th>mta_tax</th><th>tip_amount</th><th>tolls_amount</th><th>improvement_surcharge</th><th>total_amount</th><th>congestion_surcharge</th><th>Airport_fee</th><th>cbd_congestion_fee</th><th>pickup_hour</th><th>pickup_dayofweek</th><th>trip_duration_minutes</th><th>tip_percent</th></tr></thead><tbody><tr><td>1</td><td>2025-05-01T00:07:06.000</td><td>2025-05-01T00:24:15.000</td><td>1</td><td>3.7</td><td>1</td><td>N</td><td>140</td><td>202</td><td>1</td><td>18.4</td><td>4.25</td><td>0.5</td><td>4.85</td><td>0.0</td><td>1.0</td><td>29.0</td><td>2.5</td><td>0.0</td><td>0.75</td><td>0</td><td>5</td><td>17</td><td>26.36</td></tr><tr><td>2</td><td>2025-05-01T00:07:44.000</td><td>2025-05-01T00:14:27.000</td><td>1</td><td>1.03</td><td>1</td><td>N</td><td>234</td><td>161</td><td>1</td><td>8.6</td><td>1.0</td><td>0.5</td><td>4.3</td><td>0.0</td><td>1.0</td><td>18.65</td><td>2.5</td><td>0.0</td><td>0.75</td><td>0</td><td>5</td><td>6</td><td>50.0</td></tr><tr><td>2</td><td>2025-05-01T00:15:56.000</td><td>2025-05-01T00:23:53.000</td><td>1</td><td>1.57</td><td>1</td><td>N</td><td>161</td><td>234</td><td>2</td><td>10.0</td><td>1.0</td><td>0.5</td><td>0.0</td><td>0.0</td><td>1.0</td><td>15.75</td><td>2.5</td><td>0.0</td><td>0.75</td><td>0</td><td>5</td><td>7</td><td>0.0</td></tr><tr><td>2</td><td>2025-05-01T00:00:09.000</td><td>2025-05-01T00:25:29.000</td><td>1</td><td>9.48</td><td>1</td><td>N</td><td>138</td><td>90</td><td>1</td><td>40.8</td><td>6.0</td><td>0.5</td><td>11.7</td><td>6.94</td><td>1.0</td><td>71.94</td><td>2.5</td><td>1.75</td><td>0.75</td><td>0</td><td>5</td><td>25</td><td>28.68</td></tr><tr><td>2</td><td>2025-05-01T00:45:07.000</td><td>2025-05-01T00:52:45.000</td><td>1</td><td>1.8</td><td>1</td><td>N</td><td>90</td><td>231</td><td>1</td><td>10.0</td><td>1.0</td><td>0.5</td><td>1.5</td><td>0.0</td><td>1.0</td><td>17.25</td><td>2.5</td><td>0.0</td><td>0.75</td><td>0</td><td>5</td><td>7</td><td>15.0</td></tr><tr><td>2</td><td>2025-05-01T00:09:24.000</td><td>2025-05-01T00:22:04.000</td><td>1</td><td>5.11</td><td>1</td><td>N</td><td>138</td><td>226</td><td>1</td><td>22.6</td><td>6.0</td><td>0.5</td><td>6.02</td><td>0.0</td><td>1.0</td><td>37.87</td><td>0.0</td><td>1.75</td><td>0.0</td><td>0</td><td>5</td><td>12</td><td>26.64</td></tr><tr><td>2</td><td>2025-04-30T23:50:34.000</td><td>2025-04-30T23:56:06.000</td><td>2</td><td>0.99</td><td>1</td><td>N</td><td>234</td><td>79</td><td>1</td><td>7.9</td><td>1.0</td><td>0.5</td><td>2.73</td><td>0.0</td><td>1.0</td><td>16.38</td><td>2.5</td><td>0.0</td><td>0.75</td><td>23</td><td>4</td><td>5</td><td>34.56</td></tr><tr><td>2</td><td>2025-05-01T00:04:45.000</td><td>2025-05-01T00:07:43.000</td><td>1</td><td>0.47</td><td>1</td><td>N</td><td>114</td><td>144</td><td>2</td><td>5.1</td><td>1.0</td><td>0.5</td><td>0.0</td><td>0.0</td><td>1.0</td><td>10.85</td><td>2.5</td><td>0.0</td><td>0.75</td><td>0</td><td>5</td><td>2</td><td>0.0</td></tr><tr><td>7</td><td>2025-05-01T00:22:31.000</td><td>2025-05-01T00:22:31.000</td><td>1</td><td>1.09</td><td>1</td><td>N</td><td>229</td><td>43</td><td>1</td><td>8.6</td><td>0.0</td><td>0.5</td><td>2.87</td><td>0.0</td><td>1.0</td><td>17.22</td><td>2.5</td><td>0.0</td><td>0.75</td><td>0</td><td>5</td><td>0</td><td>33.37</td></tr><tr><td>2</td><td>2025-05-01T00:09:36.000</td><td>2025-05-01T00:16:24.000</td><td>1</td><td>1.33</td><td>1</td><td>N</td><td>158</td><td>125</td><td>1</td><td>8.6</td><td>1.0</td><td>0.5</td><td>2.87</td><td>0.0</td><td>1.0</td><td>17.22</td><td>2.5</td><td>0.0</td><td>0.75</td><td>0</td><td>5</td><td>6</td><td>33.37</td></tr></tbody></table></div>"
      ]
     },
     "metadata": {
      "application/vnd.databricks.v1+output": {
       "addedWidgets": {},
       "aggData": [],
       "aggError": "",
       "aggOverflow": false,
       "aggSchema": [],
       "aggSeriesLimitReached": false,
       "aggType": "",
       "arguments": {},
       "columnCustomDisplayInfos": {},
       "data": [
        [
         1,
         "2025-05-01T00:07:06.000",
         "2025-05-01T00:24:15.000",
         1,
         3.7,
         1,
         "N",
         140,
         202,
         1,
         18.4,
         4.25,
         0.5,
         4.85,
         0.0,
         1.0,
         29.0,
         2.5,
         0.0,
         0.75,
         0,
         5,
         17,
         26.36
        ],
        [
         2,
         "2025-05-01T00:07:44.000",
         "2025-05-01T00:14:27.000",
         1,
         1.03,
         1,
         "N",
         234,
         161,
         1,
         8.6,
         1.0,
         0.5,
         4.3,
         0.0,
         1.0,
         18.65,
         2.5,
         0.0,
         0.75,
         0,
         5,
         6,
         50.0
        ],
        [
         2,
         "2025-05-01T00:15:56.000",
         "2025-05-01T00:23:53.000",
         1,
         1.57,
         1,
         "N",
         161,
         234,
         2,
         10.0,
         1.0,
         0.5,
         0.0,
         0.0,
         1.0,
         15.75,
         2.5,
         0.0,
         0.75,
         0,
         5,
         7,
         0.0
        ],
        [
         2,
         "2025-05-01T00:00:09.000",
         "2025-05-01T00:25:29.000",
         1,
         9.48,
         1,
         "N",
         138,
         90,
         1,
         40.8,
         6.0,
         0.5,
         11.7,
         6.94,
         1.0,
         71.94,
         2.5,
         1.75,
         0.75,
         0,
         5,
         25,
         28.68
        ],
        [
         2,
         "2025-05-01T00:45:07.000",
         "2025-05-01T00:52:45.000",
         1,
         1.8,
         1,
         "N",
         90,
         231,
         1,
         10.0,
         1.0,
         0.5,
         1.5,
         0.0,
         1.0,
         17.25,
         2.5,
         0.0,
         0.75,
         0,
         5,
         7,
         15.0
        ],
        [
         2,
         "2025-05-01T00:09:24.000",
         "2025-05-01T00:22:04.000",
         1,
         5.11,
         1,
         "N",
         138,
         226,
         1,
         22.6,
         6.0,
         0.5,
         6.02,
         0.0,
         1.0,
         37.87,
         0.0,
         1.75,
         0.0,
         0,
         5,
         12,
         26.64
        ],
        [
         2,
         "2025-04-30T23:50:34.000",
         "2025-04-30T23:56:06.000",
         2,
         0.99,
         1,
         "N",
         234,
         79,
         1,
         7.9,
         1.0,
         0.5,
         2.73,
         0.0,
         1.0,
         16.38,
         2.5,
         0.0,
         0.75,
         23,
         4,
         5,
         34.56
        ],
        [
         2,
         "2025-05-01T00:04:45.000",
         "2025-05-01T00:07:43.000",
         1,
         0.47,
         1,
         "N",
         114,
         144,
         2,
         5.1,
         1.0,
         0.5,
         0.0,
         0.0,
         1.0,
         10.85,
         2.5,
         0.0,
         0.75,
         0,
         5,
         2,
         0.0
        ],
        [
         7,
         "2025-05-01T00:22:31.000",
         "2025-05-01T00:22:31.000",
         1,
         1.09,
         1,
         "N",
         229,
         43,
         1,
         8.6,
         0.0,
         0.5,
         2.87,
         0.0,
         1.0,
         17.22,
         2.5,
         0.0,
         0.75,
         0,
         5,
         0,
         33.37
        ],
        [
         2,
         "2025-05-01T00:09:36.000",
         "2025-05-01T00:16:24.000",
         1,
         1.33,
         1,
         "N",
         158,
         125,
         1,
         8.6,
         1.0,
         0.5,
         2.87,
         0.0,
         1.0,
         17.22,
         2.5,
         0.0,
         0.75,
         0,
         5,
         6,
         33.37
        ]
       ],
       "datasetInfos": [],
       "dbfsResultPath": null,
       "isJsonSchema": true,
       "metadata": {},
       "overflow": false,
       "plotOptions": {
        "customPlotOptions": {},
        "displayType": "table",
        "pivotAggregation": null,
        "pivotColumns": null,
        "xColumns": null,
        "yColumns": null
       },
       "removedWidgets": [],
       "schema": [
        {
         "metadata": "{}",
         "name": "VendorID",
         "type": "\"integer\""
        },
        {
         "metadata": "{}",
         "name": "tpep_pickup_datetime",
         "type": "\"timestamp_ntz\""
        },
        {
         "metadata": "{}",
         "name": "tpep_dropoff_datetime",
         "type": "\"timestamp_ntz\""
        },
        {
         "metadata": "{}",
         "name": "passenger_count",
         "type": "\"long\""
        },
        {
         "metadata": "{}",
         "name": "trip_distance",
         "type": "\"double\""
        },
        {
         "metadata": "{}",
         "name": "RatecodeID",
         "type": "\"long\""
        },
        {
         "metadata": "{}",
         "name": "store_and_fwd_flag",
         "type": "\"string\""
        },
        {
         "metadata": "{}",
         "name": "PULocationID",
         "type": "\"integer\""
        },
        {
         "metadata": "{}",
         "name": "DOLocationID",
         "type": "\"integer\""
        },
        {
         "metadata": "{}",
         "name": "payment_type",
         "type": "\"long\""
        },
        {
         "metadata": "{}",
         "name": "fare_amount",
         "type": "\"double\""
        },
        {
         "metadata": "{}",
         "name": "extra",
         "type": "\"double\""
        },
        {
         "metadata": "{}",
         "name": "mta_tax",
         "type": "\"double\""
        },
        {
         "metadata": "{}",
         "name": "tip_amount",
         "type": "\"double\""
        },
        {
         "metadata": "{}",
         "name": "tolls_amount",
         "type": "\"double\""
        },
        {
         "metadata": "{}",
         "name": "improvement_surcharge",
         "type": "\"double\""
        },
        {
         "metadata": "{}",
         "name": "total_amount",
         "type": "\"double\""
        },
        {
         "metadata": "{}",
         "name": "congestion_surcharge",
         "type": "\"double\""
        },
        {
         "metadata": "{}",
         "name": "Airport_fee",
         "type": "\"double\""
        },
        {
         "metadata": "{}",
         "name": "cbd_congestion_fee",
         "type": "\"double\""
        },
        {
         "metadata": "{}",
         "name": "pickup_hour",
         "type": "\"integer\""
        },
        {
         "metadata": "{}",
         "name": "pickup_dayofweek",
         "type": "\"integer\""
        },
        {
         "metadata": "{}",
         "name": "trip_duration_minutes",
         "type": "\"integer\""
        },
        {
         "metadata": "{}",
         "name": "tip_percent",
         "type": "\"double\""
        }
       ],
       "type": "table"
      }
     },
     "output_type": "display_data"
    }
   ],
   "source": [
    "def enrich_df(df):\n",
    "    return (\n",
    "    df\n",
    "    #Hour of the day 0-23 for hourly aggretion & dashboards\n",
    "    .withColumn(\"pickup_hour\", hour(col(\"tpep_pickup_datetime\")))\n",
    "\n",
    "    #Day of week 1-7 to comapre weekday & weekends\n",
    "    .withColumn(\"pickup_dayofweek\", dayofweek(col(\"tpep_pickup_datetime\")))\n",
    "    \n",
    "    #Trip Duration in minutes; rounded up to 2.\n",
    "    .withColumn(\"trip_duration_minutes\",\n",
    "                round((unix_timestamp(\"tpep_dropoff_datetime\") \n",
    "                       - unix_timestamp(\"tpep_pickup_datetime\"))/60, 2)\n",
    "                .cast(\"integer\"))\n",
    "    \n",
    "    #Tip as aa % of total fare\n",
    "    .withColumn(\n",
    "        \"tip_percent\",\n",
    "        round((col(\"tip_amount\")/col(\"fare_amount\"))*100,2)\n",
    "    )\n",
    "    )\n",
    "df_enriched = enrich_df(df_clean)\n",
    "display(df_enriched.limit(10))    "
   ]
  },
  {
   "cell_type": "markdown",
   "metadata": {
    "application/vnd.databricks.v1+cell": {
     "cellMetadata": {},
     "inputWidgets": {},
     "nuid": "11c741ee-bc96-4a95-ac51-e253187f8ff0",
     "showTitle": false,
     "tableResultSettingsMap": {},
     "title": ""
    }
   },
   "source": [
    "6. Aggregation"
   ]
  },
  {
   "cell_type": "code",
   "execution_count": 0,
   "metadata": {
    "application/vnd.databricks.v1+cell": {
     "cellMetadata": {
      "byteLimit": 2048000,
      "rowLimit": 10000
     },
     "inputWidgets": {},
     "nuid": "b5cefeb9-f3a1-4fd3-b44b-79cd7754cab5",
     "showTitle": false,
     "tableResultSettingsMap": {},
     "title": ""
    }
   },
   "outputs": [
    {
     "output_type": "display_data",
     "data": {
      "text/html": [
       "<style scoped>\n",
       "  .table-result-container {\n",
       "    max-height: 300px;\n",
       "    overflow: auto;\n",
       "  }\n",
       "  table, th, td {\n",
       "    border: 1px solid black;\n",
       "    border-collapse: collapse;\n",
       "  }\n",
       "  th, td {\n",
       "    padding: 5px;\n",
       "  }\n",
       "  th {\n",
       "    text-align: left;\n",
       "  }\n",
       "</style><div class='table-result-container'><table class='table-result'><thead style='background-color: white'><tr><th>pickup_hour</th><th>avg_fare</th><th>avg_tip</th></tr></thead><tbody><tr><td>0</td><td>21.13</td><td>21.71</td></tr><tr><td>1</td><td>19.68</td><td>21.52</td></tr><tr><td>2</td><td>17.0</td><td>21.44</td></tr><tr><td>3</td><td>17.71</td><td>20.99</td></tr><tr><td>4</td><td>23.75</td><td>20.3</td></tr></tbody></table></div>"
      ]
     },
     "metadata": {
      "application/vnd.databricks.v1+output": {
       "addedWidgets": {},
       "aggData": [],
       "aggError": "",
       "aggOverflow": false,
       "aggSchema": [],
       "aggSeriesLimitReached": false,
       "aggType": "",
       "arguments": {},
       "columnCustomDisplayInfos": {},
       "data": [
        [
         0,
         21.13,
         21.71
        ],
        [
         1,
         19.68,
         21.52
        ],
        [
         2,
         17.0,
         21.44
        ],
        [
         3,
         17.71,
         20.99
        ],
        [
         4,
         23.75,
         20.3
        ]
       ],
       "datasetInfos": [],
       "dbfsResultPath": null,
       "isJsonSchema": true,
       "metadata": {},
       "overflow": false,
       "plotOptions": {
        "customPlotOptions": {},
        "displayType": "table",
        "pivotAggregation": null,
        "pivotColumns": null,
        "xColumns": null,
        "yColumns": null
       },
       "removedWidgets": [],
       "schema": [
        {
         "metadata": "{}",
         "name": "pickup_hour",
         "type": "\"integer\""
        },
        {
         "metadata": "{}",
         "name": "avg_fare",
         "type": "\"double\""
        },
        {
         "metadata": "{}",
         "name": "avg_tip",
         "type": "\"double\""
        }
       ],
       "type": "table"
      }
     },
     "output_type": "display_data"
    }
   ],
   "source": [
    "def agg_df(df): \n",
    "    return(\n",
    "        df.groupBy('pickup_hour')\n",
    "            .agg(\n",
    "                round(avg(\"fare_amount\"),2).alias('avg_fare'),\n",
    "                round(avg(\"tip_percent\"),2).alias('avg_tip')\n",
    "            )\n",
    "        .orderBy('pickup_hour')\n",
    "        )\n",
    "\n",
    "df_summary = agg_df(df_enriched)\n",
    "display(df_summary.limit(5))\n"
   ]
  },
  {
   "cell_type": "markdown",
   "metadata": {
    "application/vnd.databricks.v1+cell": {
     "cellMetadata": {},
     "inputWidgets": {},
     "nuid": "9fe1d762-595d-4ea8-87ad-af4e3864505f",
     "showTitle": false,
     "tableResultSettingsMap": {},
     "title": ""
    }
   },
   "source": [
    "7. Save Data to Delta Table"
   ]
  },
  {
   "cell_type": "code",
   "execution_count": 0,
   "metadata": {
    "application/vnd.databricks.v1+cell": {
     "cellMetadata": {
      "byteLimit": 2048000,
      "rowLimit": 10000
     },
     "inputWidgets": {},
     "nuid": "79943e3d-a122-49cc-aba2-600b22f029c4",
     "showTitle": false,
     "tableResultSettingsMap": {},
     "title": ""
    }
   },
   "outputs": [],
   "source": [
    "#Save the table to unity catalog as a table\n",
    "def save_to_delta(df,table_name):\n",
    "    (\n",
    "        df.write.format('delta')\\\n",
    "                .mode('overwrite')\\\n",
    "                .saveAsTable(f'nyc_taxi.{table_name}')\n",
    "    )\n",
    "    return df"
   ]
  },
  {
   "cell_type": "code",
   "execution_count": 0,
   "metadata": {
    "application/vnd.databricks.v1+cell": {
     "cellMetadata": {
      "byteLimit": 2048000,
      "rowLimit": 10000
     },
     "inputWidgets": {},
     "nuid": "d883ddaf-fe94-4652-ac1e-fd0f6f47b06e",
     "showTitle": false,
     "tableResultSettingsMap": {},
     "title": ""
    }
   },
   "outputs": [
    {
     "output_type": "display_data",
     "data": {
      "text/html": [
       "<style scoped>\n",
       "  .table-result-container {\n",
       "    max-height: 300px;\n",
       "    overflow: auto;\n",
       "  }\n",
       "  table, th, td {\n",
       "    border: 1px solid black;\n",
       "    border-collapse: collapse;\n",
       "  }\n",
       "  th, td {\n",
       "    padding: 5px;\n",
       "  }\n",
       "  th {\n",
       "    text-align: left;\n",
       "  }\n",
       "</style><div class='table-result-container'><table class='table-result'><thead style='background-color: white'><tr><th>pickup_hour</th><th>avg_fare</th><th>avg_tip</th></tr></thead><tbody><tr><td>0</td><td>21.13</td><td>21.71</td></tr><tr><td>1</td><td>19.68</td><td>21.52</td></tr><tr><td>2</td><td>17.0</td><td>21.44</td></tr><tr><td>3</td><td>17.71</td><td>20.99</td></tr><tr><td>4</td><td>23.75</td><td>20.3</td></tr></tbody></table></div>"
      ]
     },
     "metadata": {
      "application/vnd.databricks.v1+output": {
       "addedWidgets": {},
       "aggData": [],
       "aggError": "",
       "aggOverflow": false,
       "aggSchema": [],
       "aggSeriesLimitReached": false,
       "aggType": "",
       "arguments": {},
       "columnCustomDisplayInfos": {},
       "data": [
        [
         0,
         21.13,
         21.71
        ],
        [
         1,
         19.68,
         21.52
        ],
        [
         2,
         17.0,
         21.44
        ],
        [
         3,
         17.71,
         20.99
        ],
        [
         4,
         23.75,
         20.3
        ]
       ],
       "datasetInfos": [],
       "dbfsResultPath": null,
       "isJsonSchema": true,
       "metadata": {},
       "overflow": false,
       "plotOptions": {
        "customPlotOptions": {},
        "displayType": "table",
        "pivotAggregation": null,
        "pivotColumns": null,
        "xColumns": null,
        "yColumns": null
       },
       "removedWidgets": [],
       "schema": [
        {
         "metadata": "{}",
         "name": "pickup_hour",
         "type": "\"integer\""
        },
        {
         "metadata": "{}",
         "name": "avg_fare",
         "type": "\"double\""
        },
        {
         "metadata": "{}",
         "name": "avg_tip",
         "type": "\"double\""
        }
       ],
       "type": "table"
      }
     },
     "output_type": "display_data"
    },
    {
     "output_type": "display_data",
     "data": {
      "text/html": [
       "<style scoped>\n",
       "  .table-result-container {\n",
       "    max-height: 300px;\n",
       "    overflow: auto;\n",
       "  }\n",
       "  table, th, td {\n",
       "    border: 1px solid black;\n",
       "    border-collapse: collapse;\n",
       "  }\n",
       "  th, td {\n",
       "    padding: 5px;\n",
       "  }\n",
       "  th {\n",
       "    text-align: left;\n",
       "  }\n",
       "</style><div class='table-result-container'><table class='table-result'><thead style='background-color: white'><tr><th>VendorID</th><th>tpep_pickup_datetime</th><th>tpep_dropoff_datetime</th><th>passenger_count</th><th>trip_distance</th><th>RatecodeID</th><th>store_and_fwd_flag</th><th>PULocationID</th><th>DOLocationID</th><th>payment_type</th><th>fare_amount</th><th>extra</th><th>mta_tax</th><th>tip_amount</th><th>tolls_amount</th><th>improvement_surcharge</th><th>total_amount</th><th>congestion_surcharge</th><th>Airport_fee</th><th>cbd_congestion_fee</th><th>pickup_hour</th><th>pickup_dayofweek</th><th>trip_duration_minutes</th><th>tip_percent</th></tr></thead><tbody><tr><td>1</td><td>2025-05-01T00:07:06.000</td><td>2025-05-01T00:24:15.000</td><td>1</td><td>3.7</td><td>1</td><td>N</td><td>140</td><td>202</td><td>1</td><td>18.4</td><td>4.25</td><td>0.5</td><td>4.85</td><td>0.0</td><td>1.0</td><td>29.0</td><td>2.5</td><td>0.0</td><td>0.75</td><td>0</td><td>5</td><td>17</td><td>26.36</td></tr><tr><td>2</td><td>2025-05-01T00:07:44.000</td><td>2025-05-01T00:14:27.000</td><td>1</td><td>1.03</td><td>1</td><td>N</td><td>234</td><td>161</td><td>1</td><td>8.6</td><td>1.0</td><td>0.5</td><td>4.3</td><td>0.0</td><td>1.0</td><td>18.65</td><td>2.5</td><td>0.0</td><td>0.75</td><td>0</td><td>5</td><td>6</td><td>50.0</td></tr><tr><td>2</td><td>2025-05-01T00:15:56.000</td><td>2025-05-01T00:23:53.000</td><td>1</td><td>1.57</td><td>1</td><td>N</td><td>161</td><td>234</td><td>2</td><td>10.0</td><td>1.0</td><td>0.5</td><td>0.0</td><td>0.0</td><td>1.0</td><td>15.75</td><td>2.5</td><td>0.0</td><td>0.75</td><td>0</td><td>5</td><td>7</td><td>0.0</td></tr><tr><td>2</td><td>2025-05-01T00:00:09.000</td><td>2025-05-01T00:25:29.000</td><td>1</td><td>9.48</td><td>1</td><td>N</td><td>138</td><td>90</td><td>1</td><td>40.8</td><td>6.0</td><td>0.5</td><td>11.7</td><td>6.94</td><td>1.0</td><td>71.94</td><td>2.5</td><td>1.75</td><td>0.75</td><td>0</td><td>5</td><td>25</td><td>28.68</td></tr><tr><td>2</td><td>2025-05-01T00:45:07.000</td><td>2025-05-01T00:52:45.000</td><td>1</td><td>1.8</td><td>1</td><td>N</td><td>90</td><td>231</td><td>1</td><td>10.0</td><td>1.0</td><td>0.5</td><td>1.5</td><td>0.0</td><td>1.0</td><td>17.25</td><td>2.5</td><td>0.0</td><td>0.75</td><td>0</td><td>5</td><td>7</td><td>15.0</td></tr></tbody></table></div>"
      ]
     },
     "metadata": {
      "application/vnd.databricks.v1+output": {
       "addedWidgets": {},
       "aggData": [],
       "aggError": "",
       "aggOverflow": false,
       "aggSchema": [],
       "aggSeriesLimitReached": false,
       "aggType": "",
       "arguments": {},
       "columnCustomDisplayInfos": {},
       "data": [
        [
         1,
         "2025-05-01T00:07:06.000",
         "2025-05-01T00:24:15.000",
         1,
         3.7,
         1,
         "N",
         140,
         202,
         1,
         18.4,
         4.25,
         0.5,
         4.85,
         0.0,
         1.0,
         29.0,
         2.5,
         0.0,
         0.75,
         0,
         5,
         17,
         26.36
        ],
        [
         2,
         "2025-05-01T00:07:44.000",
         "2025-05-01T00:14:27.000",
         1,
         1.03,
         1,
         "N",
         234,
         161,
         1,
         8.6,
         1.0,
         0.5,
         4.3,
         0.0,
         1.0,
         18.65,
         2.5,
         0.0,
         0.75,
         0,
         5,
         6,
         50.0
        ],
        [
         2,
         "2025-05-01T00:15:56.000",
         "2025-05-01T00:23:53.000",
         1,
         1.57,
         1,
         "N",
         161,
         234,
         2,
         10.0,
         1.0,
         0.5,
         0.0,
         0.0,
         1.0,
         15.75,
         2.5,
         0.0,
         0.75,
         0,
         5,
         7,
         0.0
        ],
        [
         2,
         "2025-05-01T00:00:09.000",
         "2025-05-01T00:25:29.000",
         1,
         9.48,
         1,
         "N",
         138,
         90,
         1,
         40.8,
         6.0,
         0.5,
         11.7,
         6.94,
         1.0,
         71.94,
         2.5,
         1.75,
         0.75,
         0,
         5,
         25,
         28.68
        ],
        [
         2,
         "2025-05-01T00:45:07.000",
         "2025-05-01T00:52:45.000",
         1,
         1.8,
         1,
         "N",
         90,
         231,
         1,
         10.0,
         1.0,
         0.5,
         1.5,
         0.0,
         1.0,
         17.25,
         2.5,
         0.0,
         0.75,
         0,
         5,
         7,
         15.0
        ]
       ],
       "datasetInfos": [],
       "dbfsResultPath": null,
       "isJsonSchema": true,
       "metadata": {},
       "overflow": false,
       "plotOptions": {
        "customPlotOptions": {},
        "displayType": "table",
        "pivotAggregation": null,
        "pivotColumns": null,
        "xColumns": null,
        "yColumns": null
       },
       "removedWidgets": [],
       "schema": [
        {
         "metadata": "{}",
         "name": "VendorID",
         "type": "\"integer\""
        },
        {
         "metadata": "{}",
         "name": "tpep_pickup_datetime",
         "type": "\"timestamp_ntz\""
        },
        {
         "metadata": "{}",
         "name": "tpep_dropoff_datetime",
         "type": "\"timestamp_ntz\""
        },
        {
         "metadata": "{}",
         "name": "passenger_count",
         "type": "\"long\""
        },
        {
         "metadata": "{}",
         "name": "trip_distance",
         "type": "\"double\""
        },
        {
         "metadata": "{}",
         "name": "RatecodeID",
         "type": "\"long\""
        },
        {
         "metadata": "{}",
         "name": "store_and_fwd_flag",
         "type": "\"string\""
        },
        {
         "metadata": "{}",
         "name": "PULocationID",
         "type": "\"integer\""
        },
        {
         "metadata": "{}",
         "name": "DOLocationID",
         "type": "\"integer\""
        },
        {
         "metadata": "{}",
         "name": "payment_type",
         "type": "\"long\""
        },
        {
         "metadata": "{}",
         "name": "fare_amount",
         "type": "\"double\""
        },
        {
         "metadata": "{}",
         "name": "extra",
         "type": "\"double\""
        },
        {
         "metadata": "{}",
         "name": "mta_tax",
         "type": "\"double\""
        },
        {
         "metadata": "{}",
         "name": "tip_amount",
         "type": "\"double\""
        },
        {
         "metadata": "{}",
         "name": "tolls_amount",
         "type": "\"double\""
        },
        {
         "metadata": "{}",
         "name": "improvement_surcharge",
         "type": "\"double\""
        },
        {
         "metadata": "{}",
         "name": "total_amount",
         "type": "\"double\""
        },
        {
         "metadata": "{}",
         "name": "congestion_surcharge",
         "type": "\"double\""
        },
        {
         "metadata": "{}",
         "name": "Airport_fee",
         "type": "\"double\""
        },
        {
         "metadata": "{}",
         "name": "cbd_congestion_fee",
         "type": "\"double\""
        },
        {
         "metadata": "{}",
         "name": "pickup_hour",
         "type": "\"integer\""
        },
        {
         "metadata": "{}",
         "name": "pickup_dayofweek",
         "type": "\"integer\""
        },
        {
         "metadata": "{}",
         "name": "trip_duration_minutes",
         "type": "\"integer\""
        },
        {
         "metadata": "{}",
         "name": "tip_percent",
         "type": "\"double\""
        }
       ],
       "type": "table"
      }
     },
     "output_type": "display_data"
    },
    {
     "output_type": "display_data",
     "data": {
      "text/html": [
       "<style scoped>\n",
       "  .table-result-container {\n",
       "    max-height: 300px;\n",
       "    overflow: auto;\n",
       "  }\n",
       "  table, th, td {\n",
       "    border: 1px solid black;\n",
       "    border-collapse: collapse;\n",
       "  }\n",
       "  th, td {\n",
       "    padding: 5px;\n",
       "  }\n",
       "  th {\n",
       "    text-align: left;\n",
       "  }\n",
       "</style><div class='table-result-container'><table class='table-result'><thead style='background-color: white'><tr><th>VendorID</th><th>tpep_pickup_datetime</th><th>tpep_dropoff_datetime</th><th>passenger_count</th><th>trip_distance</th><th>RatecodeID</th><th>store_and_fwd_flag</th><th>PULocationID</th><th>DOLocationID</th><th>payment_type</th><th>fare_amount</th><th>extra</th><th>mta_tax</th><th>tip_amount</th><th>tolls_amount</th><th>improvement_surcharge</th><th>total_amount</th><th>congestion_surcharge</th><th>Airport_fee</th><th>cbd_congestion_fee</th></tr></thead><tbody><tr><td>1</td><td>2025-05-01T00:07:06.000</td><td>2025-05-01T00:24:15.000</td><td>1</td><td>3.7</td><td>1</td><td>N</td><td>140</td><td>202</td><td>1</td><td>18.4</td><td>4.25</td><td>0.5</td><td>4.85</td><td>0.0</td><td>1.0</td><td>29.0</td><td>2.5</td><td>0.0</td><td>0.75</td></tr><tr><td>2</td><td>2025-05-01T00:07:44.000</td><td>2025-05-01T00:14:27.000</td><td>1</td><td>1.03</td><td>1</td><td>N</td><td>234</td><td>161</td><td>1</td><td>8.6</td><td>1.0</td><td>0.5</td><td>4.3</td><td>0.0</td><td>1.0</td><td>18.65</td><td>2.5</td><td>0.0</td><td>0.75</td></tr><tr><td>2</td><td>2025-05-01T00:15:56.000</td><td>2025-05-01T00:23:53.000</td><td>1</td><td>1.57</td><td>1</td><td>N</td><td>161</td><td>234</td><td>2</td><td>10.0</td><td>1.0</td><td>0.5</td><td>0.0</td><td>0.0</td><td>1.0</td><td>15.75</td><td>2.5</td><td>0.0</td><td>0.75</td></tr><tr><td>2</td><td>2025-05-01T00:00:09.000</td><td>2025-05-01T00:25:29.000</td><td>1</td><td>9.48</td><td>1</td><td>N</td><td>138</td><td>90</td><td>1</td><td>40.8</td><td>6.0</td><td>0.5</td><td>11.7</td><td>6.94</td><td>1.0</td><td>71.94</td><td>2.5</td><td>1.75</td><td>0.75</td></tr><tr><td>2</td><td>2025-05-01T00:45:07.000</td><td>2025-05-01T00:52:45.000</td><td>1</td><td>1.8</td><td>1</td><td>N</td><td>90</td><td>231</td><td>1</td><td>10.0</td><td>1.0</td><td>0.5</td><td>1.5</td><td>0.0</td><td>1.0</td><td>17.25</td><td>2.5</td><td>0.0</td><td>0.75</td></tr></tbody></table></div>"
      ]
     },
     "metadata": {
      "application/vnd.databricks.v1+output": {
       "addedWidgets": {},
       "aggData": [],
       "aggError": "",
       "aggOverflow": false,
       "aggSchema": [],
       "aggSeriesLimitReached": false,
       "aggType": "",
       "arguments": {},
       "columnCustomDisplayInfos": {},
       "data": [
        [
         1,
         "2025-05-01T00:07:06.000",
         "2025-05-01T00:24:15.000",
         1,
         3.7,
         1,
         "N",
         140,
         202,
         1,
         18.4,
         4.25,
         0.5,
         4.85,
         0.0,
         1.0,
         29.0,
         2.5,
         0.0,
         0.75
        ],
        [
         2,
         "2025-05-01T00:07:44.000",
         "2025-05-01T00:14:27.000",
         1,
         1.03,
         1,
         "N",
         234,
         161,
         1,
         8.6,
         1.0,
         0.5,
         4.3,
         0.0,
         1.0,
         18.65,
         2.5,
         0.0,
         0.75
        ],
        [
         2,
         "2025-05-01T00:15:56.000",
         "2025-05-01T00:23:53.000",
         1,
         1.57,
         1,
         "N",
         161,
         234,
         2,
         10.0,
         1.0,
         0.5,
         0.0,
         0.0,
         1.0,
         15.75,
         2.5,
         0.0,
         0.75
        ],
        [
         2,
         "2025-05-01T00:00:09.000",
         "2025-05-01T00:25:29.000",
         1,
         9.48,
         1,
         "N",
         138,
         90,
         1,
         40.8,
         6.0,
         0.5,
         11.7,
         6.94,
         1.0,
         71.94,
         2.5,
         1.75,
         0.75
        ],
        [
         2,
         "2025-05-01T00:45:07.000",
         "2025-05-01T00:52:45.000",
         1,
         1.8,
         1,
         "N",
         90,
         231,
         1,
         10.0,
         1.0,
         0.5,
         1.5,
         0.0,
         1.0,
         17.25,
         2.5,
         0.0,
         0.75
        ]
       ],
       "datasetInfos": [],
       "dbfsResultPath": null,
       "isJsonSchema": true,
       "metadata": {},
       "overflow": false,
       "plotOptions": {
        "customPlotOptions": {},
        "displayType": "table",
        "pivotAggregation": null,
        "pivotColumns": null,
        "xColumns": null,
        "yColumns": null
       },
       "removedWidgets": [],
       "schema": [
        {
         "metadata": "{}",
         "name": "VendorID",
         "type": "\"integer\""
        },
        {
         "metadata": "{}",
         "name": "tpep_pickup_datetime",
         "type": "\"timestamp_ntz\""
        },
        {
         "metadata": "{}",
         "name": "tpep_dropoff_datetime",
         "type": "\"timestamp_ntz\""
        },
        {
         "metadata": "{}",
         "name": "passenger_count",
         "type": "\"long\""
        },
        {
         "metadata": "{}",
         "name": "trip_distance",
         "type": "\"double\""
        },
        {
         "metadata": "{}",
         "name": "RatecodeID",
         "type": "\"long\""
        },
        {
         "metadata": "{}",
         "name": "store_and_fwd_flag",
         "type": "\"string\""
        },
        {
         "metadata": "{}",
         "name": "PULocationID",
         "type": "\"integer\""
        },
        {
         "metadata": "{}",
         "name": "DOLocationID",
         "type": "\"integer\""
        },
        {
         "metadata": "{}",
         "name": "payment_type",
         "type": "\"long\""
        },
        {
         "metadata": "{}",
         "name": "fare_amount",
         "type": "\"double\""
        },
        {
         "metadata": "{}",
         "name": "extra",
         "type": "\"double\""
        },
        {
         "metadata": "{}",
         "name": "mta_tax",
         "type": "\"double\""
        },
        {
         "metadata": "{}",
         "name": "tip_amount",
         "type": "\"double\""
        },
        {
         "metadata": "{}",
         "name": "tolls_amount",
         "type": "\"double\""
        },
        {
         "metadata": "{}",
         "name": "improvement_surcharge",
         "type": "\"double\""
        },
        {
         "metadata": "{}",
         "name": "total_amount",
         "type": "\"double\""
        },
        {
         "metadata": "{}",
         "name": "congestion_surcharge",
         "type": "\"double\""
        },
        {
         "metadata": "{}",
         "name": "Airport_fee",
         "type": "\"double\""
        },
        {
         "metadata": "{}",
         "name": "cbd_congestion_fee",
         "type": "\"double\""
        }
       ],
       "type": "table"
      }
     },
     "output_type": "display_data"
    },
    {
     "output_type": "display_data",
     "data": {
      "text/html": [
       "<style scoped>\n",
       "  .table-result-container {\n",
       "    max-height: 300px;\n",
       "    overflow: auto;\n",
       "  }\n",
       "  table, th, td {\n",
       "    border: 1px solid black;\n",
       "    border-collapse: collapse;\n",
       "  }\n",
       "  th, td {\n",
       "    padding: 5px;\n",
       "  }\n",
       "  th {\n",
       "    text-align: left;\n",
       "  }\n",
       "</style><div class='table-result-container'><table class='table-result'><thead style='background-color: white'><tr><th>LocationID</th><th>Borough</th><th>Zone</th><th>service_zone</th></tr></thead><tbody><tr><td>1</td><td>EWR</td><td>Newark Airport</td><td>EWR</td></tr><tr><td>2</td><td>Queens</td><td>Jamaica Bay</td><td>Boro Zone</td></tr><tr><td>3</td><td>Bronx</td><td>Allerton/Pelham Gardens</td><td>Boro Zone</td></tr><tr><td>4</td><td>Manhattan</td><td>Alphabet City</td><td>Yellow Zone</td></tr><tr><td>5</td><td>Staten Island</td><td>Arden Heights</td><td>Boro Zone</td></tr></tbody></table></div>"
      ]
     },
     "metadata": {
      "application/vnd.databricks.v1+output": {
       "addedWidgets": {},
       "aggData": [],
       "aggError": "",
       "aggOverflow": false,
       "aggSchema": [],
       "aggSeriesLimitReached": false,
       "aggType": "",
       "arguments": {},
       "columnCustomDisplayInfos": {},
       "data": [
        [
         "1",
         "EWR",
         "Newark Airport",
         "EWR"
        ],
        [
         "2",
         "Queens",
         "Jamaica Bay",
         "Boro Zone"
        ],
        [
         "3",
         "Bronx",
         "Allerton/Pelham Gardens",
         "Boro Zone"
        ],
        [
         "4",
         "Manhattan",
         "Alphabet City",
         "Yellow Zone"
        ],
        [
         "5",
         "Staten Island",
         "Arden Heights",
         "Boro Zone"
        ]
       ],
       "datasetInfos": [],
       "dbfsResultPath": null,
       "isJsonSchema": true,
       "metadata": {},
       "overflow": false,
       "plotOptions": {
        "customPlotOptions": {},
        "displayType": "table",
        "pivotAggregation": null,
        "pivotColumns": null,
        "xColumns": null,
        "yColumns": null
       },
       "removedWidgets": [],
       "schema": [
        {
         "metadata": "{}",
         "name": "LocationID",
         "type": "\"string\""
        },
        {
         "metadata": "{}",
         "name": "Borough",
         "type": "\"string\""
        },
        {
         "metadata": "{}",
         "name": "Zone",
         "type": "\"string\""
        },
        {
         "metadata": "{}",
         "name": "service_zone",
         "type": "\"string\""
        }
       ],
       "type": "table"
      }
     },
     "output_type": "display_data"
    }
   ],
   "source": [
    "save_to_delta(df_summary,'hourly_summary')\n",
    "display(df_summary.limit(5))\n",
    "\n",
    "save_to_delta(df_enriched,'df_enriched')\n",
    "display(df_enriched.limit(5))\n",
    "\n",
    "save_to_delta(df_clean,'df_clean')\n",
    "display(df_clean.limit(5))\n",
    "\n",
    "save_to_delta(df_zones,'nyc_taxi_zone_lookup')\n",
    "display(df_zones.limit(5))\n",
    "\n"
   ]
  }
 ],
 "metadata": {
  "application/vnd.databricks.v1+notebook": {
   "computePreferences": null,
   "dashboards": [],
   "environmentMetadata": {
    "base_environment": "",
    "environment_version": "2"
   },
   "inputWidgetPreferences": null,
   "language": "python",
   "notebookMetadata": {
    "mostRecentlyExecutedCommandWithImplicitDF": {
     "commandId": 6079120555195300,
     "dataframes": [
      "_sqldf"
     ]
    },
    "pythonIndentUnit": 4
   },
   "notebookName": "Bronze-Silver",
   "widgets": {}
  },
  "language_info": {
   "name": "python"
  }
 },
 "nbformat": 4,
 "nbformat_minor": 0
}