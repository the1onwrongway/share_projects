{
 "cells": [
  {
   "cell_type": "code",
   "execution_count": 0,
   "metadata": {
    "application/vnd.databricks.v1+cell": {
     "cellMetadata": {
      "byteLimit": 2048000,
      "implicitDf": true,
      "rowLimit": 10000
     },
     "inputWidgets": {},
     "nuid": "81cc2535-9232-4359-8703-2af1af5fa95d",
     "showTitle": false,
     "tableResultSettingsMap": {},
     "title": ""
    }
   },
   "outputs": [
    {
     "output_type": "display_data",
     "data": {
      "text/html": [
       "<style scoped>\n",
       "  .table-result-container {\n",
       "    max-height: 300px;\n",
       "    overflow: auto;\n",
       "  }\n",
       "  table, th, td {\n",
       "    border: 1px solid black;\n",
       "    border-collapse: collapse;\n",
       "  }\n",
       "  th, td {\n",
       "    padding: 5px;\n",
       "  }\n",
       "  th {\n",
       "    text-align: left;\n",
       "  }\n",
       "</style><div class='table-result-container'><table class='table-result'><thead style='background-color: white'><tr><th>pickup_hour</th><th>avg_tip_percent</th></tr></thead><tbody><tr><td>0</td><td>21.71</td></tr><tr><td>1</td><td>21.52</td></tr><tr><td>2</td><td>21.44</td></tr><tr><td>3</td><td>20.99</td></tr><tr><td>4</td><td>20.3</td></tr><tr><td>5</td><td>18.46</td></tr><tr><td>6</td><td>19.1</td></tr><tr><td>7</td><td>20.77</td></tr><tr><td>8</td><td>21.27</td></tr><tr><td>9</td><td>25.52</td></tr><tr><td>10</td><td>20.69</td></tr><tr><td>11</td><td>20.37</td></tr><tr><td>12</td><td>20.32</td></tr><tr><td>13</td><td>20.37</td></tr><tr><td>14</td><td>20.23</td></tr><tr><td>15</td><td>20.35</td></tr><tr><td>16</td><td>22.27</td></tr><tr><td>17</td><td>23.06</td></tr><tr><td>18</td><td>23.33</td></tr><tr><td>19</td><td>23.53</td></tr><tr><td>20</td><td>22.77</td></tr><tr><td>21</td><td>22.8</td></tr><tr><td>22</td><td>22.62</td></tr><tr><td>23</td><td>21.96</td></tr></tbody></table></div>"
      ]
     },
     "metadata": {
      "application/vnd.databricks.v1+output": {
       "addedWidgets": {},
       "aggData": [],
       "aggError": "",
       "aggOverflow": false,
       "aggSchema": [],
       "aggSeriesLimitReached": false,
       "aggType": "",
       "arguments": {},
       "columnCustomDisplayInfos": {},
       "data": [
        [
         0,
         21.71
        ],
        [
         1,
         21.52
        ],
        [
         2,
         21.44
        ],
        [
         3,
         20.99
        ],
        [
         4,
         20.3
        ],
        [
         5,
         18.46
        ],
        [
         6,
         19.1
        ],
        [
         7,
         20.77
        ],
        [
         8,
         21.27
        ],
        [
         9,
         25.52
        ],
        [
         10,
         20.69
        ],
        [
         11,
         20.37
        ],
        [
         12,
         20.32
        ],
        [
         13,
         20.37
        ],
        [
         14,
         20.23
        ],
        [
         15,
         20.35
        ],
        [
         16,
         22.27
        ],
        [
         17,
         23.06
        ],
        [
         18,
         23.33
        ],
        [
         19,
         23.53
        ],
        [
         20,
         22.77
        ],
        [
         21,
         22.8
        ],
        [
         22,
         22.62
        ],
        [
         23,
         21.96
        ]
       ],
       "datasetInfos": [
        {
         "name": "_sqldf",
         "schema": {
          "fields": [
           {
            "metadata": {},
            "name": "pickup_hour",
            "nullable": true,
            "type": "integer"
           },
           {
            "metadata": {},
            "name": "avg_tip_percent",
            "nullable": true,
            "type": "double"
           }
          ],
          "type": "struct"
         },
         "tableIdentifier": null,
         "typeStr": "pyspark.sql.connect.dataframe.DataFrame"
        }
       ],
       "dbfsResultPath": null,
       "isJsonSchema": true,
       "metadata": {
        "createTempViewForImplicitDf": true,
        "dataframeName": "_sqldf",
        "executionCount": 5
       },
       "overflow": false,
       "plotOptions": {
        "customPlotOptions": {},
        "displayType": "table",
        "pivotAggregation": null,
        "pivotColumns": null,
        "xColumns": null,
        "yColumns": null
       },
       "removedWidgets": [],
       "schema": [
        {
         "metadata": "{}",
         "name": "pickup_hour",
         "type": "\"integer\""
        },
        {
         "metadata": "{}",
         "name": "avg_tip_percent",
         "type": "\"double\""
        }
       ],
       "type": "table"
      }
     },
     "output_type": "display_data"
    },
    {
     "output_type": "display_data",
     "data": {
      "text/plain": [
       "Databricks visualization. Run in Databricks to view."
      ]
     },
     "metadata": {
      "application/vnd.databricks.v1.subcommand+json": {
       "baseErrorDetails": null,
       "bindings": {},
       "collapsed": false,
       "command": "%sql WITH q AS (select \n  pickup_hour,\n  round(avg(avg_tip),2) as avg_tip_percent\nfrom nyc_taxi.hourly_summary\ngroup by pickup_hour\norder by pickup_hour) SELECT `pickup_hour`,SUM(`avg_tip_percent`) `column_b4c0ae0f75` FROM q GROUP BY `pickup_hour`",
       "commandTitle": "Avg Tip",
       "commandType": "auto",
       "commandVersion": 0,
       "commentThread": [],
       "commentsVisible": false,
       "contentSha256Hex": null,
       "customPlotOptions": {
        "redashChart": [
         {
          "key": "type",
          "value": "CHART"
         },
         {
          "key": "options",
          "value": {
           "alignYAxesAtZero": true,
           "coefficient": 1,
           "columnConfigurationMap": {
            "x": {
             "column": "pickup_hour",
             "id": "column_b4c0ae0f74"
            },
            "y": [
             {
              "column": "avg_tip_percent",
              "id": "column_b4c0ae0f75",
              "transform": "SUM"
             }
            ]
           },
           "dateTimeFormat": "DD/MM/YYYY HH:mm",
           "direction": {
            "type": "counterclockwise"
           },
           "error_y": {
            "type": "data",
            "visible": true
           },
           "globalSeriesType": "column",
           "isAggregationOn": true,
           "legend": {
            "traceorder": "normal"
           },
           "missingValuesAsZero": true,
           "numberFormat": "0,0.[00000]",
           "percentFormat": "0[.]00%",
           "series": {
            "error_y": {
             "type": "data",
             "visible": true
            },
            "percentValues": false,
            "stacking": null
           },
           "seriesOptions": {
            "column_b4c0ae0f75": {
             "name": "avg_tip_percent",
             "type": "column",
             "yAxis": 0
            }
           },
           "showDataLabels": false,
           "sizemode": "diameter",
           "sortX": true,
           "sortY": true,
           "swappedAxes": false,
           "textFormat": "",
           "useAggregationsUi": true,
           "valuesOptions": {},
           "version": 2,
           "xAxis": {
            "labels": {
             "enabled": true
            },
            "type": "-"
           },
           "yAxis": [
            {
             "type": "-"
            },
            {
             "opposite": true,
             "type": "-"
            }
           ]
          }
         }
        ]
       },
       "datasetPreviewNameToCmdIdMap": {},
       "diffDeletes": [],
       "diffInserts": [],
       "displayType": "redashChart",
       "error": null,
       "errorDetails": null,
       "errorSummary": null,
       "errorTraceType": null,
       "finishTime": 0,
       "globalVars": {},
       "guid": "",
       "height": "auto",
       "hideCommandCode": false,
       "hideCommandResult": false,
       "iPythonMetadata": null,
       "inputWidgets": {},
       "isLockedInExamMode": false,
       "latestUser": "a user",
       "latestUserId": null,
       "listResultMetadata": null,
       "metadata": {},
       "nuid": "3b4c7cc4-b0cc-4069-ab5b-50b2a758820d",
       "origId": 0,
       "parentHierarchy": [],
       "pivotAggregation": null,
       "pivotColumns": null,
       "position": 2.0,
       "resultDbfsErrorMessage": null,
       "resultDbfsStatus": "INLINED_IN_TREE",
       "results": null,
       "showCommandTitle": false,
       "startTime": 0,
       "state": "input",
       "streamStates": {},
       "subcommandOptions": {
        "queryPlan": {
         "groups": [
          {
           "column": "pickup_hour",
           "type": "column"
          }
         ],
         "selects": [
          {
           "column": "pickup_hour",
           "type": "column"
          },
          {
           "alias": "column_b4c0ae0f75",
           "args": [
            {
             "column": "avg_tip_percent",
             "type": "column"
            }
           ],
           "function": "SUM",
           "type": "function"
          }
         ]
        }
       },
       "submitTime": 0,
       "subtype": "tableResultSubCmd.visualization",
       "tableResultIndex": 0,
       "tableResultSettingsMap": {},
       "useConsistentColors": false,
       "version": "CommandV1",
       "width": "auto",
       "workflows": [],
       "xColumns": null,
       "yColumns": null
      }
     },
     "output_type": "display_data"
    }
   ],
   "source": [
    "%sql\n",
    "select \n",
    "  pickup_hour,\n",
    "  round(avg(avg_tip),2) as avg_tip_percent\n",
    "from nyc_taxi.hourly_summary\n",
    "group by pickup_hour\n",
    "order by pickup_hour"
   ]
  },
  {
   "cell_type": "code",
   "execution_count": 0,
   "metadata": {
    "application/vnd.databricks.v1+cell": {
     "cellMetadata": {
      "byteLimit": 2048000,
      "implicitDf": true,
      "rowLimit": 10000
     },
     "inputWidgets": {},
     "nuid": "282501a1-b752-465b-be1c-7537306b77f5",
     "showTitle": false,
     "tableResultSettingsMap": {},
     "title": ""
    }
   },
   "outputs": [
    {
     "output_type": "display_data",
     "data": {
      "text/html": [
       "<style scoped>\n",
       "  .table-result-container {\n",
       "    max-height: 300px;\n",
       "    overflow: auto;\n",
       "  }\n",
       "  table, th, td {\n",
       "    border: 1px solid black;\n",
       "    border-collapse: collapse;\n",
       "  }\n",
       "  th, td {\n",
       "    padding: 5px;\n",
       "  }\n",
       "  th {\n",
       "    text-align: left;\n",
       "  }\n",
       "</style><div class='table-result-container'><table class='table-result'><thead style='background-color: white'><tr><th>pickup_zone</th><th>trips</th></tr></thead><tbody><tr><td>Upper East Side South</td><td>179519</td></tr><tr><td>JFK Airport</td><td>177039</td></tr><tr><td>Midtown Center</td><td>157671</td></tr><tr><td>Upper East Side North</td><td>152077</td></tr><tr><td>LaGuardia Airport</td><td>120654</td></tr><tr><td>Midtown East</td><td>115280</td></tr><tr><td>Times Sq/Theatre District</td><td>112561</td></tr><tr><td>Penn Station/Madison Sq West</td><td>112047</td></tr><tr><td>Lincoln Square East</td><td>111033</td></tr><tr><td>Midtown North</td><td>97547</td></tr></tbody></table></div>"
      ]
     },
     "metadata": {
      "application/vnd.databricks.v1+output": {
       "addedWidgets": {},
       "aggData": [],
       "aggError": "",
       "aggOverflow": false,
       "aggSchema": [],
       "aggSeriesLimitReached": false,
       "aggType": "",
       "arguments": {},
       "columnCustomDisplayInfos": {},
       "data": [
        [
         "Upper East Side South",
         179519
        ],
        [
         "JFK Airport",
         177039
        ],
        [
         "Midtown Center",
         157671
        ],
        [
         "Upper East Side North",
         152077
        ],
        [
         "LaGuardia Airport",
         120654
        ],
        [
         "Midtown East",
         115280
        ],
        [
         "Times Sq/Theatre District",
         112561
        ],
        [
         "Penn Station/Madison Sq West",
         112047
        ],
        [
         "Lincoln Square East",
         111033
        ],
        [
         "Midtown North",
         97547
        ]
       ],
       "datasetInfos": [
        {
         "name": "_sqldf",
         "schema": {
          "fields": [
           {
            "metadata": {},
            "name": "pickup_zone",
            "nullable": true,
            "type": "string"
           },
           {
            "metadata": {},
            "name": "trips",
            "nullable": false,
            "type": "long"
           }
          ],
          "type": "struct"
         },
         "tableIdentifier": null,
         "typeStr": "pyspark.sql.connect.dataframe.DataFrame"
        }
       ],
       "dbfsResultPath": null,
       "isJsonSchema": true,
       "metadata": {
        "createTempViewForImplicitDf": true,
        "dataframeName": "_sqldf",
        "executionCount": 11
       },
       "overflow": false,
       "plotOptions": {
        "customPlotOptions": {},
        "displayType": "table",
        "pivotAggregation": null,
        "pivotColumns": null,
        "xColumns": null,
        "yColumns": null
       },
       "removedWidgets": [],
       "schema": [
        {
         "metadata": "{}",
         "name": "pickup_zone",
         "type": "\"string\""
        },
        {
         "metadata": "{}",
         "name": "trips",
         "type": "\"long\""
        }
       ],
       "type": "table"
      }
     },
     "output_type": "display_data"
    },
    {
     "output_type": "display_data",
     "data": {
      "text/plain": [
       "Databricks visualization. Run in Databricks to view."
      ]
     },
     "metadata": {
      "application/vnd.databricks.v1.subcommand+json": {
       "baseErrorDetails": null,
       "bindings": {},
       "collapsed": false,
       "command": "%sql WITH q AS (select\n    z.Zone as pickup_zone,\n    count(*) as trips\nfrom nyc_taxi.df_clean as t\njoin nyc_taxi.nyc_taxi_zone_lookup as z\n    on t.PULocationID = z.LocationID\ngroup by z.Zone\norder by trips desc\nlimit 10) SELECT `pickup_zone`,SUM(`trips`) `column_27a76cd925` FROM q GROUP BY `pickup_zone`",
       "commandTitle": "Trips by Zone",
       "commandType": "auto",
       "commandVersion": 0,
       "commentThread": [],
       "commentsVisible": false,
       "contentSha256Hex": null,
       "customPlotOptions": {
        "redashChart": [
         {
          "key": "type",
          "value": "CHART"
         },
         {
          "key": "options",
          "value": {
           "alignYAxesAtZero": true,
           "coefficient": 1,
           "columnConfigurationMap": {
            "x": {
             "column": "pickup_zone",
             "id": "column_27a76cd923"
            },
            "y": [
             {
              "column": "trips",
              "id": "column_27a76cd925",
              "transform": "SUM"
             }
            ]
           },
           "dateTimeFormat": "DD/MM/YYYY HH:mm",
           "direction": {
            "type": "counterclockwise"
           },
           "error_y": {
            "type": "data",
            "visible": true
           },
           "globalSeriesType": "column",
           "isAggregationOn": true,
           "legend": {
            "traceorder": "normal"
           },
           "missingValuesAsZero": true,
           "numberFormat": "0,0.[00000]",
           "percentFormat": "0[.]00%",
           "series": {
            "error_y": {
             "type": "data",
             "visible": true
            },
            "stacking": null
           },
           "seriesOptions": {
            "column_27a76cd917": {
             "name": "trips",
             "type": "column",
             "yAxis": 0
            },
            "column_27a76cd925": {
             "type": "column",
             "yAxis": 0
            }
           },
           "showDataLabels": false,
           "sizemode": "diameter",
           "sortX": false,
           "sortY": true,
           "swappedAxes": true,
           "textFormat": "",
           "useAggregationsUi": true,
           "valuesOptions": {},
           "version": 2,
           "xAxis": {
            "labels": {
             "enabled": true
            },
            "title": {
             "text": "Zone"
            },
            "type": "-"
           },
           "yAxis": [
            {
             "title": {
              "text": "Trips"
             },
             "type": "-"
            },
            {
             "opposite": true,
             "type": "-"
            }
           ]
          }
         }
        ]
       },
       "datasetPreviewNameToCmdIdMap": {},
       "diffDeletes": [],
       "diffInserts": [],
       "displayType": "redashChart",
       "error": null,
       "errorDetails": null,
       "errorSummary": null,
       "errorTraceType": null,
       "finishTime": 0,
       "globalVars": {},
       "guid": "",
       "height": "auto",
       "hideCommandCode": false,
       "hideCommandResult": false,
       "iPythonMetadata": null,
       "inputWidgets": {},
       "isLockedInExamMode": false,
       "latestUser": "a user",
       "latestUserId": null,
       "listResultMetadata": null,
       "metadata": {},
       "nuid": "231dd7bd-9833-41c7-8229-5aa98379ad55",
       "origId": 0,
       "parentHierarchy": [],
       "pivotAggregation": null,
       "pivotColumns": null,
       "position": 4.0,
       "resultDbfsErrorMessage": null,
       "resultDbfsStatus": "INLINED_IN_TREE",
       "results": null,
       "showCommandTitle": false,
       "startTime": 0,
       "state": "input",
       "streamStates": {},
       "subcommandOptions": {
        "queryPlan": {
         "groups": [
          {
           "column": "pickup_zone",
           "type": "column"
          }
         ],
         "selects": [
          {
           "column": "pickup_zone",
           "type": "column"
          },
          {
           "alias": "column_27a76cd925",
           "args": [
            {
             "column": "trips",
             "type": "column"
            }
           ],
           "function": "SUM",
           "type": "function"
          }
         ]
        }
       },
       "submitTime": 0,
       "subtype": "tableResultSubCmd.visualization",
       "tableResultIndex": 0,
       "tableResultSettingsMap": {},
       "useConsistentColors": false,
       "version": "CommandV1",
       "width": "auto",
       "workflows": [],
       "xColumns": null,
       "yColumns": null
      }
     },
     "output_type": "display_data"
    }
   ],
   "source": [
    "%sql\n",
    "select\n",
    "    z.Zone as pickup_zone,\n",
    "    count(*) as trips\n",
    "from nyc_taxi.df_clean as t\n",
    "join nyc_taxi.nyc_taxi_zone_lookup as z\n",
    "    on t.PULocationID = z.LocationID\n",
    "group by z.Zone\n",
    "order by trips desc\n",
    "limit 10"
   ]
  },
  {
   "cell_type": "code",
   "execution_count": 0,
   "metadata": {
    "application/vnd.databricks.v1+cell": {
     "cellMetadata": {},
     "inputWidgets": {},
     "nuid": "0d590a57-7fb6-4a2a-9add-5e8466af2ae1",
     "showTitle": false,
     "tableResultSettingsMap": {},
     "title": ""
    }
   },
   "outputs": [],
   "source": []
  }
 ],
 "metadata": {
  "application/vnd.databricks.v1+notebook": {
   "computePreferences": null,
   "dashboards": [],
   "environmentMetadata": {
    "base_environment": "",
    "environment_version": "2"
   },
   "inputWidgetPreferences": null,
   "language": "python",
   "notebookMetadata": {
    "mostRecentlyExecutedCommandWithImplicitDF": {
     "commandId": 6590303292180754,
     "dataframes": [
      "_sqldf"
     ]
    },
    "pythonIndentUnit": 4
   },
   "notebookName": "EDA",
   "widgets": {}
  },
  "language_info": {
   "name": "python"
  }
 },
 "nbformat": 4,
 "nbformat_minor": 0
}